{
  "nbformat": 4,
  "nbformat_minor": 0,
  "metadata": {
    "colab": {
      "name": "SOTA of ML2021Spring - HW1_r09921006.ipynb",
      "provenance": [],
      "collapsed_sections": [],
      "include_colab_link": true
    },
    "kernelspec": {
      "name": "python3",
      "display_name": "Python 3"
    },
    "accelerator": "GPU"
  },
  "cells": [
    {
      "cell_type": "markdown",
      "metadata": {
        "id": "view-in-github",
        "colab_type": "text"
      },
      "source": [
        "<a href=\"https://colab.research.google.com/github/alvin870203/ntuml21s/blob/main/SOTA_of_ML2021Spring_HW1_r09921006.ipynb\" target=\"_parent\"><img src=\"https://colab.research.google.com/assets/colab-badge.svg\" alt=\"Open In Colab\"/></a>"
      ]
    },
    {
      "cell_type": "markdown",
      "metadata": {
        "id": "mz0_QVkxCrX3"
      },
      "source": [
        "# **Homework 1: COVID-19 Cases Prediction (Regression)**"
      ]
    },
    {
      "cell_type": "markdown",
      "metadata": {
        "id": "ZeZnPAiwDRWG"
      },
      "source": [
        "Author: Chih-Yuan Chuang (r09921006)\n",
        "\n",
        "Slides: https://github.com/ga642381/ML2021-Spring/blob/main/HW01/HW01.pdf  \n",
        "Video: TBA\n",
        "\n",
        "Objectives:\n",
        "* Solve a regression problem with deep neural networks (DNN).\n",
        "* Understand basic DNN training tips.\n",
        "* Get familiar with PyTorch.\n",
        "\n",
        "If any questions, please contact the TAs via TA hours, NTU COOL, or email.\n"
      ]
    },
    {
      "cell_type": "markdown",
      "metadata": {
        "id": "Jx3x1nDkG-Uy"
      },
      "source": [
        "# **Download Data**\n",
        "\n",
        "\n",
        "If the Google drive links are dead, you can download data from [kaggle](https://www.kaggle.com/c/ml2021spring-hw1/data), and upload data manually to the workspace."
      ]
    },
    {
      "cell_type": "code",
      "metadata": {
        "colab": {
          "base_uri": "https://localhost:8080/"
        },
        "id": "tMj55YDKG6ch",
        "outputId": "615801b6-ebc1-489f-cd1a-3ab4bc94503b"
      },
      "source": [
        "tr_path = 'covid.train.csv'  # path to training data\n",
        "tt_path = 'covid.test.csv'   # path to testing data\n",
        "\n",
        "!gdown --id '19CCyCgJrUxtvgZF53vnctJiOJ23T5mqF' --output covid.train.csv\n",
        "!gdown --id '1CE240jLm2npU-tdz81-oVKEF3T2yfT1O' --output covid.test.csv"
      ],
      "execution_count": null,
      "outputs": [
        {
          "output_type": "stream",
          "text": [
            "Downloading...\n",
            "From: https://drive.google.com/uc?id=19CCyCgJrUxtvgZF53vnctJiOJ23T5mqF\n",
            "To: /content/covid.train.csv\n",
            "100% 2.00M/2.00M [00:00<00:00, 31.3MB/s]\n",
            "Downloading...\n",
            "From: https://drive.google.com/uc?id=1CE240jLm2npU-tdz81-oVKEF3T2yfT1O\n",
            "To: /content/covid.test.csv\n",
            "100% 651k/651k [00:00<00:00, 10.3MB/s]\n"
          ],
          "name": "stdout"
        }
      ]
    },
    {
      "cell_type": "markdown",
      "metadata": {
        "id": "wS_4-77xHk44"
      },
      "source": [
        "# **Import Some Packages**"
      ]
    },
    {
      "cell_type": "code",
      "metadata": {
        "id": "k-onQd4JNA5H"
      },
      "source": [
        "# PyTorch\n",
        "import torch\n",
        "import torch.nn as nn\n",
        "from torch.utils.data import Dataset, DataLoader\n",
        "\n",
        "# For data preprocess\n",
        "import numpy as np\n",
        "import csv\n",
        "import os\n",
        "\n",
        "# For plotting\n",
        "import matplotlib.pyplot as plt\n",
        "from matplotlib.pyplot import figure\n",
        "\n",
        "myseed = 42069  # set a random seed for reproducibility\n",
        "torch.backends.cudnn.deterministic = True\n",
        "torch.backends.cudnn.benchmark = False\n",
        "np.random.seed(myseed)\n",
        "torch.manual_seed(myseed)\n",
        "if torch.cuda.is_available():\n",
        "    torch.cuda.manual_seed_all(myseed)"
      ],
      "execution_count": null,
      "outputs": []
    },
    {
      "cell_type": "markdown",
      "metadata": {
        "id": "BtE3b6JEH7rw"
      },
      "source": [
        "# **Some Utilities**\n",
        "\n",
        "You do not need to modify this part."
      ]
    },
    {
      "cell_type": "code",
      "metadata": {
        "id": "FWMT3uf1NGQp"
      },
      "source": [
        "def get_device():\n",
        "    ''' Get device (if GPU is available, use GPU) '''\n",
        "    return 'cuda' if torch.cuda.is_available() else 'cpu'\n",
        "\n",
        "def plot_learning_curve(loss_record, title=''):\n",
        "    ''' Plot learning curve of your DNN (train & dev loss) '''\n",
        "    total_steps = len(loss_record['train'])\n",
        "    x_1 = range(total_steps)\n",
        "    x_2 = x_1[::len(loss_record['train']) // len(loss_record['dev'])]\n",
        "    figure(figsize=(6, 4))\n",
        "    plt.plot(x_1, loss_record['train'], c='tab:red', label='train')\n",
        "    plt.plot(x_2, loss_record['dev'], c='tab:cyan', label='dev')\n",
        "    plt.ylim(0.0, 5.)\n",
        "    plt.xlabel('Training steps')\n",
        "    plt.ylabel('MSE loss')\n",
        "    plt.title('Learning curve of {}'.format(title))\n",
        "    plt.legend()\n",
        "    plt.show()\n",
        "\n",
        "\n",
        "def plot_pred(dv_set, model, device, lim=35., preds=None, targets=None):\n",
        "    ''' Plot prediction of your DNN '''\n",
        "    if preds is None or targets is None:\n",
        "        model.eval()\n",
        "        preds, targets = [], []\n",
        "        for x, y in dv_set:\n",
        "            x, y = x.to(device), y.to(device)\n",
        "            with torch.no_grad():\n",
        "                pred = model(x)\n",
        "                preds.append(pred.detach().cpu())\n",
        "                targets.append(y.detach().cpu())\n",
        "        preds = torch.cat(preds, dim=0).numpy()\n",
        "        targets = torch.cat(targets, dim=0).numpy()\n",
        "\n",
        "    figure(figsize=(5, 5))\n",
        "    plt.scatter(targets, preds, c='r', alpha=0.5)\n",
        "    plt.plot([-0.2, lim], [-0.2, lim], c='b')\n",
        "    plt.xlim(-0.2, lim)\n",
        "    plt.ylim(-0.2, lim)\n",
        "    plt.xlabel('ground truth value')\n",
        "    plt.ylabel('predicted value')\n",
        "    plt.title('Ground Truth v.s. Prediction')\n",
        "    plt.show()"
      ],
      "execution_count": null,
      "outputs": []
    },
    {
      "cell_type": "markdown",
      "metadata": {
        "id": "39U_XFX6KOoj"
      },
      "source": [
        "# **Preprocess**\n",
        "\n",
        "We have three kinds of datasets:\n",
        "* `train`: for training\n",
        "* `dev`: for validation\n",
        "* `test`: for testing (w/o target value)"
      ]
    },
    {
      "cell_type": "markdown",
      "metadata": {
        "id": "TQ-MdwpLL7Dt"
      },
      "source": [
        "## **Dataset**\n",
        "\n",
        "The `COVID19Dataset` below does:\n",
        "* read `.csv` files\n",
        "* extract features\n",
        "* split `covid.train.csv` into train/dev sets\n",
        "* normalize features\n",
        "\n",
        "Finishing `TODO` below might make you pass medium baseline."
      ]
    },
    {
      "cell_type": "code",
      "metadata": {
        "id": "BNGUwJep9Tj-",
        "colab": {
          "base_uri": "https://localhost:8080/"
        },
        "outputId": "c41c8918-8b8c-43a2-ff29-760b495fcb1c"
      },
      "source": [
        "split_num = 1\n",
        "with open(tr_path, 'r') as fp:\n",
        "    data = list(csv.reader(fp))\n",
        "    data = np.array(data[1:])[:, 1:].astype(float)\n",
        "    feats = [40,41,42,43] + [58,59,60,61] + [76,77,78,79] + [57, 75]\n",
        "    data = data[:, feats]\n",
        "    indices = [i for i in range(len(data)) if i % 10 != split_num]\n",
        "    data = data[indices]\n",
        "    MEAN = np.mean(data, axis=0, keepdims=True)\n",
        "    STD = np.std(data, axis=0, keepdims=True)\n",
        "print(MEAN, STD)\n"
      ],
      "execution_count": null,
      "outputs": [
        {
          "output_type": "stream",
          "text": [
            "[[ 0.99126059  1.01597479 29.4418313  24.32465294  0.99416455  1.01903335\n",
            "  29.53015039 24.40694143  0.99759178  1.02212743 29.6130458  24.47952089\n",
            "  16.30043802 16.37600015]] [[0.42021428 0.42362659 9.10470848 8.45788584 0.42034576 0.42362107\n",
            "  9.09257428 8.45543431 0.42034031 0.42352935 9.08173029 8.44968563\n",
            "  7.64451925 7.63073901]]\n"
          ],
          "name": "stdout"
        }
      ]
    },
    {
      "cell_type": "code",
      "metadata": {
        "id": "0zlpIp9ANJRU"
      },
      "source": [
        "class COVID19Dataset(Dataset):\n",
        "    ''' Dataset for loading and preprocessing the COVID19 dataset '''\n",
        "    def __init__(self,\n",
        "                 path,\n",
        "                 mode='train',\n",
        "                 target_only=False):\n",
        "        self.mode = mode\n",
        "\n",
        "        # Read data into numpy arrays\n",
        "        with open(path, 'r') as fp:\n",
        "            data = list(csv.reader(fp))\n",
        "            data = np.array(data[1:])[:, 1:].astype(float)\n",
        "        \n",
        "        if not target_only:\n",
        "            feats = list(range(93))\n",
        "        else:\n",
        "            # TODO: Using 40 states & 2 tested_positive features (indices = 57 & 75)\n",
        "            feats = list(range(40)) + [40,41,42,43] + [58,59,60,61] + [76,77,78,79] + [57, 75]\n",
        "            pass\n",
        "\n",
        "        if mode == 'test':\n",
        "            # Testing data\n",
        "            # data: 893 x 93 (40 states + day 1 (18) + day 2 (18) + day 3 (17))\n",
        "            data = data[:, feats]\n",
        "            self.data = torch.FloatTensor(data)\n",
        "        else:\n",
        "            # Training data (train/dev sets)\n",
        "            # data: 2700 x 94 (40 states + day 1 (18) + day 2 (18) + day 3 (18))\n",
        "            target = data[:, -1]\n",
        "            data = data[:, feats]\n",
        "            \n",
        "            # Splitting training data into train & dev sets\n",
        "            if mode == 'train':\n",
        "                indices = [i for i in range(len(data)) if i % 10 != split_num]\n",
        "            elif mode == 'dev':\n",
        "                indices = [i for i in range(len(data)) if i % 10 == split_num]\n",
        "            \n",
        "            # Convert data into PyTorch tensors\n",
        "            self.data = torch.FloatTensor(data[indices])\n",
        "            self.target = torch.FloatTensor(target[indices])\n",
        "\n",
        "        MEAN\n",
        "\n",
        "        # Normalize features (you may remove this part to see what will happen)\n",
        "        self.data[:, 40:] = \\\n",
        "            (self.data[:, 40:] - torch.FloatTensor(MEAN)) \\\n",
        "            / torch.FloatTensor(STD)\n",
        "\n",
        "        self.dim = self.data.shape[1]\n",
        "\n",
        "        print('Finished reading the {} set of COVID19 Dataset ({} samples found, each dim = {})'\n",
        "              .format(mode, len(self.data), self.dim))\n",
        "\n",
        "    def __getitem__(self, index):\n",
        "        # Returns one sample at a time\n",
        "        if self.mode in ['train', 'dev']:\n",
        "            # For training\n",
        "            return self.data[index], self.target[index]\n",
        "        else:\n",
        "            # For testing (no target)\n",
        "            return self.data[index]\n",
        "\n",
        "    def __len__(self):\n",
        "        # Returns the size of the dataset\n",
        "        return len(self.data)"
      ],
      "execution_count": null,
      "outputs": []
    },
    {
      "cell_type": "markdown",
      "metadata": {
        "id": "AlhTlkE7MDo3"
      },
      "source": [
        "## **DataLoader**\n",
        "\n",
        "A `DataLoader` loads data from a given `Dataset` into batches.\n"
      ]
    },
    {
      "cell_type": "code",
      "metadata": {
        "id": "hlhLk5t6MBX3"
      },
      "source": [
        "def prep_dataloader(path, mode, batch_size, n_jobs=0, target_only=False):\n",
        "    ''' Generates a dataset, then is put into a dataloader. '''\n",
        "    dataset = COVID19Dataset(path, mode=mode, target_only=target_only)  # Construct dataset\n",
        "    dataloader = DataLoader(\n",
        "        dataset, batch_size,\n",
        "        shuffle=(mode == 'train'), drop_last=False,\n",
        "        num_workers=n_jobs, pin_memory=True)                            # Construct dataloader\n",
        "    return dataloader"
      ],
      "execution_count": null,
      "outputs": []
    },
    {
      "cell_type": "markdown",
      "metadata": {
        "id": "SGuycwR0MeQB"
      },
      "source": [
        "# **Deep Neural Network**\n",
        "\n",
        "`NeuralNet` is an `nn.Module` designed for regression.\n",
        "The DNN consists of 2 fully-connected layers with ReLU activation.\n",
        "This module also included a function `cal_loss` for calculating loss.\n"
      ]
    },
    {
      "cell_type": "code",
      "metadata": {
        "id": "49-uXYovOAI0"
      },
      "source": [
        "l2_lambda = 0.01\n",
        "class NeuralNet(nn.Module):\n",
        "    ''' A simple fully-connected deep neural network '''\n",
        "    def __init__(self, input_dim):\n",
        "        super(NeuralNet, self).__init__()\n",
        "\n",
        "        # Define your neural network here\n",
        "        # TODO: How to modify this model to achieve better performance?\n",
        "        self.net = nn.Sequential(\n",
        "            nn.Linear(input_dim, input_dim),\n",
        "            nn.ReLU(),\n",
        "            # nn.Linear(input_dim, input_dim),\n",
        "            # nn.ReLU(),\n",
        "            nn.Linear(input_dim, 1)\n",
        "        )\n",
        "\n",
        "        # Mean squared error loss\n",
        "        self.criterion = nn.MSELoss(reduction='mean')\n",
        "\n",
        "    def forward(self, x):\n",
        "        ''' Given input of size (batch_size x input_dim), compute output of the network '''\n",
        "        return self.net(x).squeeze(1)\n",
        "\n",
        "    def cal_loss(self, pred, target):\n",
        "        ''' Calculate loss '''\n",
        "        # TODO: you may implement L2 regularization here\n",
        "        L2 = 0\n",
        "        for param in self.parameters():\n",
        "            L2 += torch.sum(torch.pow(param, 2))\n",
        "        return self.criterion(pred, target) + l2_lambda * L2\n",
        "        # return self.criterion(pred, target)\n"
      ],
      "execution_count": null,
      "outputs": []
    },
    {
      "cell_type": "markdown",
      "metadata": {
        "id": "DvFWVjZ5Nvga"
      },
      "source": [
        "# **Train/Dev/Test**"
      ]
    },
    {
      "cell_type": "markdown",
      "metadata": {
        "id": "MAM8QecJOyqn"
      },
      "source": [
        "## **Training**"
      ]
    },
    {
      "cell_type": "code",
      "metadata": {
        "id": "lOqcmYzMO7jB"
      },
      "source": [
        "def train(tr_set, dv_set, model, config, device):\n",
        "    ''' DNN training '''\n",
        "\n",
        "    n_epochs = config['n_epochs']  # Maximum number of epochs\n",
        "\n",
        "    # Setup optimizer\n",
        "    optimizer = getattr(torch.optim, config['optimizer'])(\n",
        "        model.parameters(), **config['optim_hparas'])\n",
        "    \n",
        "    #scheduler = torch.optim.lr_scheduler.CosineAnnealingLR(optimizer, 10)\n",
        "\n",
        "    min_mse = 1000.\n",
        "    loss_record = {'train': [], 'dev': []}      # for recording training loss\n",
        "    early_stop_cnt = 0\n",
        "    epoch = 0\n",
        "    while epoch < n_epochs:\n",
        "        model.train()                           # set model to training mode\n",
        "        for x, y in tr_set:                     # iterate through the dataloader\n",
        "            optimizer.zero_grad()               # set gradient to zero\n",
        "            x, y = x.to(device), y.to(device)   # move data to device (cpu/cuda)\n",
        "            pred = model(x)                     # forward pass (compute output)\n",
        "            mse_loss = model.cal_loss(pred, y)  # compute loss\n",
        "            mse_loss.backward()                 # compute gradient (backpropagation)\n",
        "            optimizer.step()                    # update model with optimizer\n",
        "            loss_record['train'].append(mse_loss.detach().cpu().item())\n",
        "            #scheduler.step()\n",
        "\n",
        "\n",
        "        # After each epoch, test your model on the validation (development) set.\n",
        "        dev_mse = dev(dv_set, model, device)\n",
        "        if dev_mse < min_mse:\n",
        "            # Save model if your model improved\n",
        "            min_mse = dev_mse\n",
        "            print('Saving model (epoch = {:4d}, val loss = {:.4f}, train loss = {:.4f})'\n",
        "                .format(epoch + 1, min_mse, mse_loss))\n",
        "            torch.save(model.state_dict(), config['save_path'])  # Save model to specified path\n",
        "            early_stop_cnt = 0\n",
        "        else:\n",
        "            early_stop_cnt += 1\n",
        "\n",
        "        epoch += 1\n",
        "        loss_record['dev'].append(dev_mse)\n",
        "        if early_stop_cnt > config['early_stop']:\n",
        "            # Stop training if your model stops improving for \"config['early_stop']\" epochs.\n",
        "            break\n",
        "\n",
        "    print('Finished training after {} epochs'.format(epoch))\n",
        "    print('Final: (epoch = {:4d}, val loss = {:.4f}, train loss = {:.4f})'\n",
        "                .format(epoch + 1, min_mse, mse_loss))\n",
        "    \n",
        "    L2 = 0\n",
        "    for param in model.parameters():\n",
        "        L2 += torch.sum(torch.pow(param, 2))\n",
        "    print('Final: (epoch = {:4d}, val loss = {:.4f}, train loss = {:.4f})'\n",
        "                .format(epoch + 1, min_mse - l2_lambda*L2, mse_loss - l2_lambda*L2))\n",
        "\n",
        "    return min_mse, loss_record"
      ],
      "execution_count": null,
      "outputs": []
    },
    {
      "cell_type": "markdown",
      "metadata": {
        "id": "0hSd4Bn3O2PL"
      },
      "source": [
        "## **Validation**"
      ]
    },
    {
      "cell_type": "code",
      "metadata": {
        "id": "yrxrD3YsN3U2"
      },
      "source": [
        "def dev(dv_set, model, device):\n",
        "    model.eval()                                # set model to evalutation mode\n",
        "    total_loss = 0\n",
        "    for x, y in dv_set:                         # iterate through the dataloader\n",
        "        #x[:,40:] = (x[:,40:] - MEAN) / STD\n",
        "        x, y = x.to(device), y.to(device)       # move data to device (cpu/cuda)\n",
        "        with torch.no_grad():                   # disable gradient calculation\n",
        "            pred = model(x)                     # forward pass (compute output)\n",
        "            mse_loss = model.cal_loss(pred, y)  # compute loss\n",
        "        total_loss += mse_loss.detach().cpu().item() * len(x)  # accumulate loss\n",
        "    total_loss = total_loss / len(dv_set.dataset)              # compute averaged loss\n",
        "\n",
        "    return total_loss"
      ],
      "execution_count": null,
      "outputs": []
    },
    {
      "cell_type": "markdown",
      "metadata": {
        "id": "g0pdrhQAO41L"
      },
      "source": [
        "## **Testing**"
      ]
    },
    {
      "cell_type": "code",
      "metadata": {
        "id": "aSBMRFlYN5tB"
      },
      "source": [
        "def test(tt_set, model, device):\n",
        "    model.eval()                                # set model to evalutation mode\n",
        "    preds = []\n",
        "    for x in tt_set:                            # iterate through the dataloader\n",
        "        #x[:,40:] = (x[:,40:] - MEAN) / STD\n",
        "        x = x.to(device)                        # move data to device (cpu/cuda)\n",
        "        with torch.no_grad():                   # disable gradient calculation\n",
        "            pred = model(x)                     # forward pass (compute output)\n",
        "            preds.append(pred.detach().cpu())   # collect prediction\n",
        "    preds = torch.cat(preds, dim=0).numpy()     # concatenate all predictions and convert to a numpy array\n",
        "    return preds"
      ],
      "execution_count": null,
      "outputs": []
    },
    {
      "cell_type": "markdown",
      "metadata": {
        "id": "SvckkF5dvf0j"
      },
      "source": [
        "# **Setup Hyper-parameters**\n",
        "\n",
        "`config` contains hyper-parameters for training and the path to save your model."
      ]
    },
    {
      "cell_type": "code",
      "metadata": {
        "id": "NPXpdumwPjE7"
      },
      "source": [
        "device = get_device()                 # get the current available device ('cpu' or 'cuda')\n",
        "os.makedirs('models', exist_ok=True)  # The trained model will be saved to ./models/\n",
        "target_only = True                    # TODO: Using 40 states & 2 tested_positive features\n",
        "\n",
        "# TODO: How to tune these hyper-parameters to improve your model's performance?\n",
        "config = {\n",
        "    'n_epochs': 3000,                # maximum number of epochs\n",
        "    'batch_size': 270,               # mini-batch size for dataloader\n",
        "    'optimizer': 'SGD',              # optimization algorithm (optimizer in torch.optim)\n",
        "    'optim_hparas': {                # hyper-parameters for the optimizer (depends on which optimizer you are using)\n",
        "        'lr': 0.001,                 # learning rate of SGD\n",
        "        'momentum': 0.9#,              # momentum for SGD\n",
        "        # 'weight_decay': 0.01\n",
        "    },\n",
        "    'early_stop': 200,               # early stopping epochs (the number epochs since your model's last improvement)\n",
        "    'save_path': 'models/model.pth'  # your model will be saved here\n",
        "}"
      ],
      "execution_count": null,
      "outputs": []
    },
    {
      "cell_type": "markdown",
      "metadata": {
        "id": "6j1eOV3TOH-j"
      },
      "source": [
        "# **Load data and model**"
      ]
    },
    {
      "cell_type": "code",
      "metadata": {
        "colab": {
          "base_uri": "https://localhost:8080/"
        },
        "id": "eNrYBMmePLKm",
        "outputId": "d99b1630-ac6b-4e6c-fccc-af814e5c1139"
      },
      "source": [
        "tr_set = prep_dataloader(tr_path, 'train', config['batch_size'], target_only=target_only)\n",
        "dv_set = prep_dataloader(tr_path, 'dev', config['batch_size'], target_only=target_only)\n",
        "tt_set = prep_dataloader(tt_path, 'test', config['batch_size'], target_only=target_only)"
      ],
      "execution_count": null,
      "outputs": [
        {
          "output_type": "stream",
          "text": [
            "Finished reading the train set of COVID19 Dataset (2430 samples found, each dim = 54)\n",
            "Finished reading the dev set of COVID19 Dataset (270 samples found, each dim = 54)\n",
            "Finished reading the test set of COVID19 Dataset (893 samples found, each dim = 54)\n"
          ],
          "name": "stdout"
        }
      ]
    },
    {
      "cell_type": "code",
      "metadata": {
        "id": "FHylSirLP9oh"
      },
      "source": [
        "model = NeuralNet(tr_set.dataset.dim).to(device)  # Construct model and move to device"
      ],
      "execution_count": null,
      "outputs": []
    },
    {
      "cell_type": "markdown",
      "metadata": {
        "id": "sX2B_zgSOPTJ"
      },
      "source": [
        "# **Start Training!**"
      ]
    },
    {
      "cell_type": "code",
      "metadata": {
        "colab": {
          "base_uri": "https://localhost:8080/"
        },
        "id": "GrEbUxazQAAZ",
        "outputId": "5ad494bf-b418-44c7-aa53-883909cbe17b"
      },
      "source": [
        "model_loss, model_loss_record = train(tr_set, dv_set, model, config, device)"
      ],
      "execution_count": null,
      "outputs": [
        {
          "output_type": "stream",
          "text": [
            "Saving model (epoch =    1, val loss = 147.5645, train loss = 188.7745)\n",
            "Saving model (epoch =    2, val loss = 53.1480, train loss = 59.2254)\n",
            "Saving model (epoch =    3, val loss = 29.6321, train loss = 33.4422)\n",
            "Saving model (epoch =    4, val loss = 12.2036, train loss = 10.9165)\n",
            "Saving model (epoch =    5, val loss = 7.1218, train loss = 7.2883)\n",
            "Saving model (epoch =    6, val loss = 3.0412, train loss = 2.9847)\n",
            "Saving model (epoch =    7, val loss = 2.6313, train loss = 2.2733)\n",
            "Saving model (epoch =    8, val loss = 2.4099, train loss = 2.6832)\n",
            "Saving model (epoch =    9, val loss = 2.1590, train loss = 2.0896)\n",
            "Saving model (epoch =   10, val loss = 2.1098, train loss = 2.0036)\n",
            "Saving model (epoch =   11, val loss = 2.0861, train loss = 1.8175)\n",
            "Saving model (epoch =   12, val loss = 2.0694, train loss = 1.8380)\n",
            "Saving model (epoch =   13, val loss = 2.0414, train loss = 1.6838)\n",
            "Saving model (epoch =   14, val loss = 2.0232, train loss = 1.7901)\n",
            "Saving model (epoch =   15, val loss = 2.0077, train loss = 1.6572)\n",
            "Saving model (epoch =   16, val loss = 1.9946, train loss = 1.7424)\n",
            "Saving model (epoch =   17, val loss = 1.9843, train loss = 1.6825)\n",
            "Saving model (epoch =   18, val loss = 1.9716, train loss = 1.8451)\n",
            "Saving model (epoch =   19, val loss = 1.9609, train loss = 1.6727)\n",
            "Saving model (epoch =   20, val loss = 1.9528, train loss = 1.7990)\n",
            "Saving model (epoch =   22, val loss = 1.9297, train loss = 1.4274)\n",
            "Saving model (epoch =   23, val loss = 1.9274, train loss = 1.7486)\n",
            "Saving model (epoch =   24, val loss = 1.9103, train loss = 1.7403)\n",
            "Saving model (epoch =   25, val loss = 1.9026, train loss = 1.7423)\n",
            "Saving model (epoch =   26, val loss = 1.8967, train loss = 1.5623)\n",
            "Saving model (epoch =   27, val loss = 1.8856, train loss = 1.5599)\n",
            "Saving model (epoch =   28, val loss = 1.8803, train loss = 1.7339)\n",
            "Saving model (epoch =   30, val loss = 1.8696, train loss = 1.8044)\n",
            "Saving model (epoch =   31, val loss = 1.8609, train loss = 1.7570)\n",
            "Saving model (epoch =   32, val loss = 1.8489, train loss = 1.8383)\n",
            "Saving model (epoch =   34, val loss = 1.8446, train loss = 1.4531)\n",
            "Saving model (epoch =   35, val loss = 1.8324, train loss = 1.4877)\n",
            "Saving model (epoch =   36, val loss = 1.8245, train loss = 1.6344)\n",
            "Saving model (epoch =   37, val loss = 1.8227, train loss = 1.6840)\n",
            "Saving model (epoch =   38, val loss = 1.8112, train loss = 1.6153)\n",
            "Saving model (epoch =   39, val loss = 1.8088, train loss = 1.5583)\n",
            "Saving model (epoch =   40, val loss = 1.8005, train loss = 1.6100)\n",
            "Saving model (epoch =   41, val loss = 1.7978, train loss = 1.7480)\n",
            "Saving model (epoch =   42, val loss = 1.7898, train loss = 1.6322)\n",
            "Saving model (epoch =   43, val loss = 1.7863, train loss = 1.5946)\n",
            "Saving model (epoch =   44, val loss = 1.7814, train loss = 1.6399)\n",
            "Saving model (epoch =   45, val loss = 1.7784, train loss = 1.6812)\n",
            "Saving model (epoch =   46, val loss = 1.7717, train loss = 1.4317)\n",
            "Saving model (epoch =   47, val loss = 1.7681, train loss = 1.5618)\n",
            "Saving model (epoch =   48, val loss = 1.7655, train loss = 1.5222)\n",
            "Saving model (epoch =   49, val loss = 1.7654, train loss = 1.4481)\n",
            "Saving model (epoch =   51, val loss = 1.7557, train loss = 1.6130)\n",
            "Saving model (epoch =   52, val loss = 1.7509, train loss = 1.6015)\n",
            "Saving model (epoch =   53, val loss = 1.7465, train loss = 1.4850)\n",
            "Saving model (epoch =   54, val loss = 1.7414, train loss = 1.4393)\n",
            "Saving model (epoch =   55, val loss = 1.7406, train loss = 1.4045)\n",
            "Saving model (epoch =   56, val loss = 1.7361, train loss = 1.3910)\n",
            "Saving model (epoch =   57, val loss = 1.7349, train loss = 1.4614)\n",
            "Saving model (epoch =   58, val loss = 1.7304, train loss = 1.8089)\n",
            "Saving model (epoch =   59, val loss = 1.7256, train loss = 1.4851)\n",
            "Saving model (epoch =   60, val loss = 1.7255, train loss = 1.5712)\n",
            "Saving model (epoch =   61, val loss = 1.7216, train loss = 1.4161)\n",
            "Saving model (epoch =   63, val loss = 1.7156, train loss = 1.4680)\n",
            "Saving model (epoch =   64, val loss = 1.7128, train loss = 1.5367)\n",
            "Saving model (epoch =   66, val loss = 1.7100, train loss = 1.4915)\n",
            "Saving model (epoch =   67, val loss = 1.7043, train loss = 1.5103)\n",
            "Saving model (epoch =   69, val loss = 1.7036, train loss = 1.4990)\n",
            "Saving model (epoch =   70, val loss = 1.7034, train loss = 1.4851)\n",
            "Saving model (epoch =   71, val loss = 1.6983, train loss = 1.6109)\n",
            "Saving model (epoch =   73, val loss = 1.6919, train loss = 1.4882)\n",
            "Saving model (epoch =   75, val loss = 1.6895, train loss = 1.4860)\n",
            "Saving model (epoch =   76, val loss = 1.6895, train loss = 1.4465)\n",
            "Saving model (epoch =   77, val loss = 1.6881, train loss = 1.3961)\n",
            "Saving model (epoch =   78, val loss = 1.6867, train loss = 1.4215)\n",
            "Saving model (epoch =   79, val loss = 1.6831, train loss = 1.4436)\n",
            "Saving model (epoch =   81, val loss = 1.6751, train loss = 1.4809)\n",
            "Saving model (epoch =   83, val loss = 1.6720, train loss = 1.3821)\n",
            "Saving model (epoch =   84, val loss = 1.6715, train loss = 1.5351)\n",
            "Saving model (epoch =   86, val loss = 1.6687, train loss = 1.5772)\n",
            "Saving model (epoch =   88, val loss = 1.6646, train loss = 1.4056)\n",
            "Saving model (epoch =   90, val loss = 1.6601, train loss = 1.4917)\n",
            "Saving model (epoch =   91, val loss = 1.6574, train loss = 1.4012)\n",
            "Saving model (epoch =   92, val loss = 1.6562, train loss = 1.3432)\n",
            "Saving model (epoch =   95, val loss = 1.6528, train loss = 1.4119)\n",
            "Saving model (epoch =   96, val loss = 1.6506, train loss = 1.4269)\n",
            "Saving model (epoch =   97, val loss = 1.6461, train loss = 1.4022)\n",
            "Saving model (epoch =  102, val loss = 1.6430, train loss = 1.6404)\n",
            "Saving model (epoch =  107, val loss = 1.6398, train loss = 1.5003)\n",
            "Saving model (epoch =  108, val loss = 1.6360, train loss = 1.5077)\n",
            "Saving model (epoch =  112, val loss = 1.6353, train loss = 1.5358)\n",
            "Saving model (epoch =  113, val loss = 1.6297, train loss = 1.3579)\n",
            "Saving model (epoch =  117, val loss = 1.6268, train loss = 1.4776)\n",
            "Saving model (epoch =  118, val loss = 1.6265, train loss = 1.5762)\n",
            "Saving model (epoch =  121, val loss = 1.6203, train loss = 1.5195)\n",
            "Saving model (epoch =  124, val loss = 1.6202, train loss = 1.4930)\n",
            "Saving model (epoch =  126, val loss = 1.6179, train loss = 1.3790)\n",
            "Saving model (epoch =  130, val loss = 1.6143, train loss = 1.6515)\n",
            "Saving model (epoch =  131, val loss = 1.6134, train loss = 1.4431)\n",
            "Saving model (epoch =  132, val loss = 1.6113, train loss = 1.4620)\n",
            "Saving model (epoch =  135, val loss = 1.6071, train loss = 1.4592)\n",
            "Saving model (epoch =  142, val loss = 1.6054, train loss = 1.4068)\n",
            "Saving model (epoch =  143, val loss = 1.6037, train loss = 1.4706)\n",
            "Saving model (epoch =  144, val loss = 1.6004, train loss = 1.3900)\n",
            "Saving model (epoch =  146, val loss = 1.5998, train loss = 1.3562)\n",
            "Saving model (epoch =  152, val loss = 1.5966, train loss = 1.4668)\n",
            "Saving model (epoch =  155, val loss = 1.5922, train loss = 1.3641)\n",
            "Saving model (epoch =  157, val loss = 1.5918, train loss = 1.4432)\n",
            "Saving model (epoch =  162, val loss = 1.5895, train loss = 1.2421)\n",
            "Saving model (epoch =  166, val loss = 1.5850, train loss = 1.4186)\n",
            "Saving model (epoch =  168, val loss = 1.5839, train loss = 1.4707)\n",
            "Saving model (epoch =  172, val loss = 1.5817, train loss = 1.4963)\n",
            "Saving model (epoch =  173, val loss = 1.5805, train loss = 1.3174)\n",
            "Saving model (epoch =  179, val loss = 1.5754, train loss = 1.2200)\n",
            "Saving model (epoch =  184, val loss = 1.5748, train loss = 1.2619)\n",
            "Saving model (epoch =  189, val loss = 1.5712, train loss = 1.2869)\n",
            "Saving model (epoch =  191, val loss = 1.5704, train loss = 1.2573)\n",
            "Saving model (epoch =  192, val loss = 1.5697, train loss = 1.3811)\n",
            "Saving model (epoch =  195, val loss = 1.5697, train loss = 1.3925)\n",
            "Saving model (epoch =  196, val loss = 1.5683, train loss = 1.3796)\n",
            "Saving model (epoch =  204, val loss = 1.5620, train loss = 1.3842)\n",
            "Saving model (epoch =  206, val loss = 1.5611, train loss = 1.3235)\n",
            "Saving model (epoch =  212, val loss = 1.5594, train loss = 1.5141)\n",
            "Saving model (epoch =  213, val loss = 1.5571, train loss = 1.4112)\n",
            "Saving model (epoch =  216, val loss = 1.5533, train loss = 1.4118)\n",
            "Saving model (epoch =  222, val loss = 1.5533, train loss = 1.5309)\n",
            "Saving model (epoch =  227, val loss = 1.5522, train loss = 1.3285)\n",
            "Saving model (epoch =  231, val loss = 1.5460, train loss = 1.4614)\n",
            "Saving model (epoch =  240, val loss = 1.5452, train loss = 1.1898)\n",
            "Saving model (epoch =  241, val loss = 1.5444, train loss = 1.3151)\n",
            "Saving model (epoch =  243, val loss = 1.5439, train loss = 1.2327)\n",
            "Saving model (epoch =  246, val loss = 1.5437, train loss = 1.3582)\n",
            "Saving model (epoch =  247, val loss = 1.5393, train loss = 1.3572)\n",
            "Saving model (epoch =  254, val loss = 1.5393, train loss = 1.1715)\n",
            "Saving model (epoch =  256, val loss = 1.5380, train loss = 1.3374)\n",
            "Saving model (epoch =  260, val loss = 1.5357, train loss = 1.3733)\n",
            "Saving model (epoch =  261, val loss = 1.5351, train loss = 1.4832)\n",
            "Saving model (epoch =  266, val loss = 1.5339, train loss = 1.4309)\n",
            "Saving model (epoch =  268, val loss = 1.5326, train loss = 1.3204)\n",
            "Saving model (epoch =  269, val loss = 1.5313, train loss = 1.3208)\n",
            "Saving model (epoch =  272, val loss = 1.5272, train loss = 1.3391)\n",
            "Saving model (epoch =  281, val loss = 1.5244, train loss = 1.3748)\n",
            "Saving model (epoch =  287, val loss = 1.5231, train loss = 1.3491)\n",
            "Saving model (epoch =  297, val loss = 1.5227, train loss = 1.2456)\n",
            "Saving model (epoch =  299, val loss = 1.5212, train loss = 1.3595)\n",
            "Saving model (epoch =  307, val loss = 1.5190, train loss = 1.3259)\n",
            "Saving model (epoch =  312, val loss = 1.5154, train loss = 1.3707)\n",
            "Saving model (epoch =  314, val loss = 1.5144, train loss = 1.3359)\n",
            "Saving model (epoch =  320, val loss = 1.5130, train loss = 1.4018)\n",
            "Saving model (epoch =  324, val loss = 1.5110, train loss = 1.4616)\n",
            "Saving model (epoch =  328, val loss = 1.5101, train loss = 1.3752)\n",
            "Saving model (epoch =  341, val loss = 1.5044, train loss = 1.3174)\n",
            "Saving model (epoch =  350, val loss = 1.5019, train loss = 1.3366)\n",
            "Saving model (epoch =  352, val loss = 1.5010, train loss = 1.4769)\n",
            "Saving model (epoch =  355, val loss = 1.5001, train loss = 1.2704)\n",
            "Saving model (epoch =  366, val loss = 1.4999, train loss = 1.3445)\n",
            "Saving model (epoch =  367, val loss = 1.4979, train loss = 1.2578)\n",
            "Saving model (epoch =  372, val loss = 1.4970, train loss = 1.1765)\n",
            "Saving model (epoch =  374, val loss = 1.4943, train loss = 1.3513)\n",
            "Saving model (epoch =  381, val loss = 1.4940, train loss = 1.3259)\n",
            "Saving model (epoch =  388, val loss = 1.4932, train loss = 1.3790)\n",
            "Saving model (epoch =  391, val loss = 1.4919, train loss = 1.2556)\n",
            "Saving model (epoch =  397, val loss = 1.4918, train loss = 1.2045)\n",
            "Saving model (epoch =  398, val loss = 1.4904, train loss = 1.3348)\n",
            "Saving model (epoch =  399, val loss = 1.4895, train loss = 1.3856)\n",
            "Saving model (epoch =  403, val loss = 1.4884, train loss = 1.3663)\n",
            "Saving model (epoch =  409, val loss = 1.4862, train loss = 1.2221)\n",
            "Saving model (epoch =  422, val loss = 1.4861, train loss = 1.3183)\n",
            "Saving model (epoch =  425, val loss = 1.4847, train loss = 1.2135)\n",
            "Saving model (epoch =  429, val loss = 1.4836, train loss = 1.2773)\n",
            "Saving model (epoch =  430, val loss = 1.4834, train loss = 1.3689)\n",
            "Saving model (epoch =  433, val loss = 1.4807, train loss = 1.2819)\n",
            "Saving model (epoch =  438, val loss = 1.4799, train loss = 1.1244)\n",
            "Saving model (epoch =  448, val loss = 1.4786, train loss = 1.3397)\n",
            "Saving model (epoch =  450, val loss = 1.4778, train loss = 1.2635)\n",
            "Saving model (epoch =  458, val loss = 1.4771, train loss = 1.3144)\n",
            "Saving model (epoch =  463, val loss = 1.4759, train loss = 1.4469)\n",
            "Saving model (epoch =  467, val loss = 1.4756, train loss = 1.2291)\n",
            "Saving model (epoch =  472, val loss = 1.4731, train loss = 1.3482)\n",
            "Saving model (epoch =  481, val loss = 1.4721, train loss = 1.4664)\n",
            "Saving model (epoch =  488, val loss = 1.4717, train loss = 1.1866)\n",
            "Saving model (epoch =  491, val loss = 1.4694, train loss = 1.2309)\n",
            "Saving model (epoch =  497, val loss = 1.4678, train loss = 1.3536)\n",
            "Saving model (epoch =  504, val loss = 1.4671, train loss = 1.4140)\n",
            "Saving model (epoch =  507, val loss = 1.4653, train loss = 1.3071)\n",
            "Saving model (epoch =  515, val loss = 1.4619, train loss = 1.2321)\n",
            "Saving model (epoch =  522, val loss = 1.4614, train loss = 1.3075)\n",
            "Saving model (epoch =  547, val loss = 1.4613, train loss = 1.3592)\n",
            "Saving model (epoch =  551, val loss = 1.4550, train loss = 1.2690)\n",
            "Saving model (epoch =  566, val loss = 1.4541, train loss = 1.3151)\n",
            "Saving model (epoch =  579, val loss = 1.4516, train loss = 1.1574)\n",
            "Saving model (epoch =  588, val loss = 1.4513, train loss = 1.4548)\n",
            "Saving model (epoch =  594, val loss = 1.4486, train loss = 1.1768)\n",
            "Saving model (epoch =  607, val loss = 1.4478, train loss = 1.2169)\n",
            "Saving model (epoch =  627, val loss = 1.4472, train loss = 1.2893)\n",
            "Saving model (epoch =  633, val loss = 1.4471, train loss = 1.2717)\n",
            "Saving model (epoch =  647, val loss = 1.4445, train loss = 1.5605)\n",
            "Saving model (epoch =  670, val loss = 1.4439, train loss = 1.3240)\n",
            "Saving model (epoch =  676, val loss = 1.4403, train loss = 1.2308)\n",
            "Saving model (epoch =  694, val loss = 1.4401, train loss = 1.1257)\n",
            "Saving model (epoch =  698, val loss = 1.4371, train loss = 1.2326)\n",
            "Saving model (epoch =  713, val loss = 1.4355, train loss = 1.3581)\n",
            "Saving model (epoch =  729, val loss = 1.4353, train loss = 1.1698)\n",
            "Saving model (epoch =  740, val loss = 1.4333, train loss = 1.2416)\n",
            "Saving model (epoch =  751, val loss = 1.4326, train loss = 1.4574)\n",
            "Saving model (epoch =  782, val loss = 1.4316, train loss = 1.2355)\n",
            "Saving model (epoch =  788, val loss = 1.4316, train loss = 1.1454)\n",
            "Saving model (epoch =  798, val loss = 1.4305, train loss = 1.0326)\n",
            "Saving model (epoch =  827, val loss = 1.4273, train loss = 1.2654)\n",
            "Saving model (epoch =  847, val loss = 1.4263, train loss = 1.2218)\n",
            "Saving model (epoch =  894, val loss = 1.4238, train loss = 1.2512)\n",
            "Saving model (epoch =  899, val loss = 1.4237, train loss = 1.1653)\n",
            "Saving model (epoch =  931, val loss = 1.4236, train loss = 1.2088)\n",
            "Saving model (epoch =  935, val loss = 1.4210, train loss = 1.1845)\n",
            "Saving model (epoch = 1013, val loss = 1.4182, train loss = 1.3498)\n",
            "Saving model (epoch = 1055, val loss = 1.4181, train loss = 1.2918)\n",
            "Saving model (epoch = 1095, val loss = 1.4179, train loss = 1.1808)\n",
            "Saving model (epoch = 1099, val loss = 1.4160, train loss = 1.2388)\n",
            "Saving model (epoch = 1218, val loss = 1.4142, train loss = 1.1264)\n",
            "Saving model (epoch = 1223, val loss = 1.4140, train loss = 1.3127)\n",
            "Saving model (epoch = 1251, val loss = 1.4121, train loss = 1.1658)\n",
            "Saving model (epoch = 1372, val loss = 1.4113, train loss = 1.1245)\n",
            "Saving model (epoch = 1515, val loss = 1.4106, train loss = 1.1490)\n",
            "Finished training after 1716 epochs\n",
            "Final: (epoch = 1717, val loss = 1.4106, train loss = 1.2452)\n",
            "Final: (epoch = 1717, val loss = 1.0394, train loss = 0.8740)\n"
          ],
          "name": "stdout"
        }
      ]
    },
    {
      "cell_type": "code",
      "metadata": {
        "colab": {
          "base_uri": "https://localhost:8080/",
          "height": 295
        },
        "id": "hsNO9nnXQBvP",
        "outputId": "322ca253-2ca9-4016-c500-f4822d18e48f"
      },
      "source": [
        "plot_learning_curve(model_loss_record, title='deep model')"
      ],
      "execution_count": null,
      "outputs": [
        {
          "output_type": "display_data",
          "data": {
            "image/png": "[encoded data removed]",
            "text/plain": [
              "<Figure size 432x288 with 1 Axes>"
            ]
          },
          "metadata": {
            "tags": [],
            "needs_background": "light"
          }
        }
      ]
    },
    {
      "cell_type": "code",
      "metadata": {
        "colab": {
          "base_uri": "https://localhost:8080/",
          "height": 350
        },
        "id": "3iZTVn5WQFpX",
        "outputId": "5331da12-c710-4152-a61c-658734bdf579"
      },
      "source": [
        "del model\n",
        "model = NeuralNet(tr_set.dataset.dim).to(device)\n",
        "ckpt = torch.load(config['save_path'], map_location='cpu')  # Load your best model\n",
        "model.load_state_dict(ckpt)\n",
        "plot_pred(dv_set, model, device)  # Show prediction on the validation set"
      ],
      "execution_count": null,
      "outputs": [
        {
          "output_type": "display_data",
          "data": {
            "image/png": "[encoded data removed]",
            "text/plain": [
              "<Figure size 360x360 with 1 Axes>"
            ]
          },
          "metadata": {
            "tags": [],
            "needs_background": "light"
          }
        }
      ]
    },
    {
      "cell_type": "markdown",
      "metadata": {
        "id": "aQikz3IPiyPf"
      },
      "source": [
        "# **Testing**\n",
        "The predictions of your model on testing set will be stored at `pred.csv`."
      ]
    },
    {
      "cell_type": "code",
      "metadata": {
        "colab": {
          "base_uri": "https://localhost:8080/"
        },
        "id": "O8cTuQjQQOon",
        "outputId": "6fab7879-d6fb-4ed9-d9ce-44188ec03ace"
      },
      "source": [
        "def save_pred(preds, file):\n",
        "    ''' Save predictions to specified file '''\n",
        "    print('Saving results to {}'.format(file))\n",
        "    with open(file, 'w') as fp:\n",
        "        writer = csv.writer(fp)\n",
        "        writer.writerow(['id', 'tested_positive'])\n",
        "        for i, p in enumerate(preds):\n",
        "            writer.writerow([i, p])\n",
        "\n",
        "preds = test(tt_set, model, device)  # predict COVID-19 cases with your model\n",
        "save_pred(preds, 'pred.csv')         # save prediction file to pred.csv"
      ],
      "execution_count": null,
      "outputs": [
        {
          "output_type": "stream",
          "text": [
            "Saving results to pred.csv\n"
          ],
          "name": "stdout"
        }
      ]
    },
    {
      "cell_type": "markdown",
      "metadata": {
        "id": "nfrVxqJanGpE"
      },
      "source": [
        "# **Hints**\n",
        "\n",
        "## **Simple Baseline**\n",
        "* Run sample code\n",
        "\n",
        "## **Medium Baseline**\n",
        "* Feature selection: 40 states + 2 `tested_positive` (`TODO` in dataset)\n",
        "\n",
        "## **Strong Baseline**\n",
        "* Feature selection (what other features are useful?)\n",
        "* DNN architecture (layers? dimension? activation function?)\n",
        "* Training (mini-batch? optimizer? learning rate?)\n",
        "* L2 regularization\n",
        "* There are some mistakes in the sample code, can you find them?"
      ]
    },
    {
      "cell_type": "markdown",
      "metadata": {
        "id": "9tmCwXgpot3t"
      },
      "source": [
        "# **Reference**\n",
        "\n",
        "Source: Heng-Jui Chang @ NTUEE (https://github.com/ga642381/ML2021-Spring/blob/main/HW01/HW01.ipynb)\n"
      ]
    }
  ]
}